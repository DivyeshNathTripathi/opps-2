{
  "nbformat": 4,
  "nbformat_minor": 0,
  "metadata": {
    "colab": {
      "provenance": []
    },
    "kernelspec": {
      "name": "python3",
      "display_name": "Python 3"
    },
    "language_info": {
      "name": "python"
    }
  },
  "cells": [
    {
      "cell_type": "markdown",
      "source": [
        "\n",
        "Q1: What is Abstraction in OOPs? Explain with an example.\n",
        "\n",
        "**Answer**:\n",
        "\n",
        "Abstraction is the process of hiding the implementation details and showing only the essential features of an object. It helps to focus on \"what\" an object does instead of \"how\" it does it. Abstraction is implemented using abstract classes and interfaces in OOP.\n",
        "\n",
        "**Example:**"
      ],
      "metadata": {
        "id": "JoDlZoYB56or"
      }
    },
    {
      "cell_type": "code",
      "execution_count": 1,
      "metadata": {
        "colab": {
          "base_uri": "https://localhost:8080/"
        },
        "id": "PqHwGKqQ53-q",
        "outputId": "7ae960bd-2fb1-42f3-a1b3-28f2a6ef79d9"
      },
      "outputs": [
        {
          "output_type": "stream",
          "name": "stdout",
          "text": [
            "Bark\n",
            "Meow\n"
          ]
        }
      ],
      "source": [
        "from abc import ABC, abstractmethod\n",
        "\n",
        "class Animal(ABC):\n",
        "    @abstractmethod\n",
        "    def sound(self):\n",
        "        pass\n",
        "\n",
        "class Dog(Animal):\n",
        "    def sound(self):\n",
        "        return \"Bark\"\n",
        "\n",
        "class Cat(Animal):\n",
        "    def sound(self):\n",
        "        return \"Meow\"\n",
        "\n",
        "# Using the classes\n",
        "dog = Dog()\n",
        "cat = Cat()\n",
        "print(dog.sound())  # Output: Bark\n",
        "print(cat.sound())  # Output: Meow\n"
      ]
    },
    {
      "cell_type": "markdown",
      "source": [
        "Q2: Differentiate between Abstraction and Encapsulation. Explain with an example.\n",
        "\n",
        "**Answer**:\n",
        "\n",
        "**Abstraction**\n",
        "1. Focuses on hiding implementation details\n",
        "2. Implemented using abstract classes\n",
        "3. Deals with \"what to do\"\n",
        "**Encapsulation**\n",
        "1.\tFocuses on bundling data and methods\n",
        "2.\tImplemented using access modifiers\n",
        "3.\tDeals with \"how to do\"\n",
        "\n",
        "**Example of Abstraction:**"
      ],
      "metadata": {
        "id": "tSMOcZlW6hRd"
      }
    },
    {
      "cell_type": "code",
      "source": [
        "from abc import ABC, abstractmethod\n",
        "\n",
        "class Shape(ABC):\n",
        "    @abstractmethod\n",
        "    def area(self):\n",
        "        pass\n",
        "\n",
        "class Circle(Shape):\n",
        "    def __init__(self, radius):\n",
        "        self.radius = radius\n",
        "\n",
        "    def area(self):\n",
        "        return 3.14 * self.radius * self.radius\n",
        "\n",
        "circle = Circle(5)\n",
        "print(circle.area())  # Output: 78.5\n"
      ],
      "metadata": {
        "colab": {
          "base_uri": "https://localhost:8080/"
        },
        "id": "MkUMPrPNKTFg",
        "outputId": "c688c1ae-93eb-436a-9b8d-207e1f5f6fad"
      },
      "execution_count": 2,
      "outputs": [
        {
          "output_type": "stream",
          "name": "stdout",
          "text": [
            "78.5\n"
          ]
        }
      ]
    },
    {
      "cell_type": "markdown",
      "source": [
        "**Example of Encapsulation:**"
      ],
      "metadata": {
        "id": "dUFMF5VzKVvs"
      }
    },
    {
      "cell_type": "code",
      "source": [
        "class BankAccount:\n",
        "    def __init__(self, balance):\n",
        "        self.__balance = balance  # Private variable\n",
        "\n",
        "    def deposit(self, amount):\n",
        "        self.__balance += amount\n",
        "\n",
        "    def get_balance(self):\n",
        "        return self.__balance\n",
        "\n",
        "account = BankAccount(1000)\n",
        "account.deposit(500)\n",
        "print(account.get_balance())  # Output: 1500\n"
      ],
      "metadata": {
        "colab": {
          "base_uri": "https://localhost:8080/"
        },
        "id": "6h7ZuE3rKcKO",
        "outputId": "510acb58-caba-4c0a-8df5-c651747f2a7e"
      },
      "execution_count": 3,
      "outputs": [
        {
          "output_type": "stream",
          "name": "stdout",
          "text": [
            "1500\n"
          ]
        }
      ]
    },
    {
      "cell_type": "markdown",
      "source": [
        "Q3: What is abc module in Python? Why is it used?\n",
        "\n",
        "**Answer**:\n",
        "The abc module in Python stands for Abstract Base Class. It is used to define abstract base classes in Python, which serve as blueprints for other classes. It is part of the abc module and is helpful in enforcing certain methods to be implemented in derived classes.\n",
        "\n",
        "**Example**:"
      ],
      "metadata": {
        "id": "wkk96B6MKnqA"
      }
    },
    {
      "cell_type": "code",
      "source": [
        "from abc import ABC, abstractmethod\n",
        "\n",
        "class Vehicle(ABC):\n",
        "    @abstractmethod\n",
        "    def start_engine(self):\n",
        "        pass\n",
        "\n",
        "class Car(Vehicle):\n",
        "    def start_engine(self):\n",
        "        return \"Engine started\"\n",
        "\n",
        "car = Car()\n",
        "print(car.start_engine())  # Output: Engine started\n"
      ],
      "metadata": {
        "colab": {
          "base_uri": "https://localhost:8080/"
        },
        "id": "Lo7A4GmRKx2B",
        "outputId": "f3525543-a683-4375-c253-b1b8ea3699aa"
      },
      "execution_count": 4,
      "outputs": [
        {
          "output_type": "stream",
          "name": "stdout",
          "text": [
            "Engine started\n"
          ]
        }
      ]
    },
    {
      "cell_type": "markdown",
      "source": [
        "Q4: How can we achieve data abstraction?\n",
        "\n",
        "**Answer:**\n",
        "Data abstraction can be achieved in Python by:\n",
        "\n",
        "1. Using Abstract Classes: Define abstract methods in base classes that must be implemented by derived classes.\n",
        "2. Using Access Modifiers: Limit access to internal data using private (__) and protected (_) attributes.\n",
        "**Example**:"
      ],
      "metadata": {
        "id": "80LVl4GBK4Kh"
      }
    },
    {
      "cell_type": "code",
      "source": [
        "from abc import ABC, abstractmethod\n",
        "\n",
        "class Employee(ABC):\n",
        "    @abstractmethod\n",
        "    def calculate_salary(self):\n",
        "        pass\n",
        "\n",
        "class Developer(Employee):\n",
        "    def calculate_salary(self):\n",
        "        return \"Salary calculated for Developer\"\n",
        "\n",
        "developer = Developer()\n",
        "print(developer.calculate_salary())  # Output: Salary calculated for Developer\n"
      ],
      "metadata": {
        "colab": {
          "base_uri": "https://localhost:8080/"
        },
        "id": "r1IIyWnSLFOt",
        "outputId": "586b7bbc-e80f-4e57-eada-7ad4e6cf7115"
      },
      "execution_count": 5,
      "outputs": [
        {
          "output_type": "stream",
          "name": "stdout",
          "text": [
            "Salary calculated for Developer\n"
          ]
        }
      ]
    },
    {
      "cell_type": "markdown",
      "source": [
        "Q5: Can we create an instance of an abstract class? Explain your answer.\n",
        "\n",
        "**Answer:**\n",
        "No, we cannot create an instance of an abstract class. Abstract classes are meant to be inherited by other classes. They serve as blueprints and may contain abstract methods that must be implemented in derived classes.\n",
        "\n",
        "**Example:**"
      ],
      "metadata": {
        "id": "rFISO84cLMo3"
      }
    },
    {
      "cell_type": "code",
      "source": [
        "from abc import ABC, abstractmethod\n",
        "\n",
        "class Animal(ABC):\n",
        "    @abstractmethod\n",
        "    def sound(self):\n",
        "        pass\n",
        "\n",
        "# Attempting to create an instance of an abstract class\n",
        "# animal = Animal()  # This will raise a TypeError\n",
        "\n",
        "class Dog(Animal):\n",
        "    def sound(self):\n",
        "        return \"Bark\"\n",
        "\n",
        "dog = Dog()\n",
        "print(dog.sound())  # Output: Bark\n"
      ],
      "metadata": {
        "colab": {
          "base_uri": "https://localhost:8080/"
        },
        "id": "qdoKix8sLPc2",
        "outputId": "23f04a26-f949-4797-afbd-87ceed71dd41"
      },
      "execution_count": 6,
      "outputs": [
        {
          "output_type": "stream",
          "name": "stdout",
          "text": [
            "Bark\n"
          ]
        }
      ]
    }
  ]
}